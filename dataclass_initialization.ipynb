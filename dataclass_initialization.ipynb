{
 "metadata": {
  "language_info": {
   "codemirror_mode": {
    "name": "ipython",
    "version": 3
   },
   "file_extension": ".py",
   "mimetype": "text/x-python",
   "name": "python",
   "nbconvert_exporter": "python",
   "pygments_lexer": "ipython3",
   "version": "3.9.2"
  },
  "orig_nbformat": 2,
  "kernelspec": {
   "name": "python392jvsc74a57bd00b73432cc42aef373cb85ea5ad691a824e1d589efea41b287f867ab6e3f4de83",
   "display_name": "Python 3.9.2 64-bit ('.venv': venv)"
  },
  "metadata": {
   "interpreter": {
    "hash": "0b73432cc42aef373cb85ea5ad691a824e1d589efea41b287f867ab6e3f4de83"
   }
  }
 },
 "nbformat": 4,
 "nbformat_minor": 2,
 "cells": [
  {
   "source": [
    "# Dataclass Initialization Mistake"
   ],
   "cell_type": "markdown",
   "metadata": {}
  },
  {
   "cell_type": "code",
   "execution_count": 1,
   "metadata": {},
   "outputs": [],
   "source": [
    "import uuid\n",
    "from dataclasses import dataclass, field\n",
    "\n",
    "\n",
    "class TestInitFirst:\n",
    "    \"\"\"How to do it.\n",
    "    \"\"\"\n",
    "    def __init__(self, value=None) -> None:\n",
    "        if not value:\n",
    "            self.value = str(uuid.uuid4())\n",
    "\n",
    "\n",
    "class TestInitSecond:\n",
    "    \"\"\"How to not do it.\n",
    "    \"\"\"\n",
    "    def __init__(self, value=str(uuid.uuid4())) -> None:\n",
    "        self.value = value\n",
    "\n",
    "\n",
    "@dataclass\n",
    "class TestDataClass:\n",
    "    \"\"\"How to not do it.\n",
    "    \"\"\"\n",
    "    value: str = str(uuid.uuid4())\n",
    "\n",
    "\n",
    "@dataclass\n",
    "class TestDataClassSecond:\n",
    "    \"\"\"How to do it.\n",
    "    \"\"\"\n",
    "    value: str = field(default_factory=uuid.uuid4)"
   ]
  },
  {
   "cell_type": "code",
   "execution_count": 2,
   "metadata": {},
   "outputs": [
    {
     "output_type": "stream",
     "name": "stdout",
     "text": [
      "TestInitFirst\n13ee8967-84dd-481d-b1a6-b824c0dd99c4\ne8751f82-a01f-480f-86fb-40eda5e56976\nTestInitSecond\n8a23b4da-247d-4bff-9d7d-a71e64c967d4\n8a23b4da-247d-4bff-9d7d-a71e64c967d4\nTestDataClass\n3a963698-8a1e-4249-bc7d-0edd88601e47\n3a963698-8a1e-4249-bc7d-0edd88601e47\nTestDataClassSecond\n9668c107-e866-4bf8-b74c-a7cae8251310\nc3c9827a-f6bb-45a0-a32a-0d8bdf857912\n"
     ]
    }
   ],
   "source": [
    "    test_1 = TestInitFirst()\n",
    "    test_2 = TestInitFirst()\n",
    "\n",
    "    print(test_1.__class__.__name__)\n",
    "    print(test_1.value)\n",
    "    print(test_2.value)\n",
    "\n",
    "    test_1 = TestInitSecond()\n",
    "    test_2 = TestInitSecond()\n",
    "\n",
    "    print(test_1.__class__.__name__)\n",
    "    print(test_1.value)\n",
    "    print(test_2.value)\n",
    "\n",
    "    test_1 = TestDataClass()\n",
    "    test_2 = TestDataClass()\n",
    "\n",
    "    print(test_1.__class__.__name__)\n",
    "    print(test_1.value)\n",
    "    print(test_2.value)\n",
    "\n",
    "    test_1 = TestDataClassSecond()\n",
    "    test_2 = TestDataClassSecond()\n",
    "\n",
    "    print(test_1.__class__.__name__)\n",
    "    print(test_1.value)\n",
    "    print(test_2.value)\n"
   ]
  },
  {
   "cell_type": "code",
   "execution_count": null,
   "metadata": {},
   "outputs": [],
   "source": []
  }
 ]
}